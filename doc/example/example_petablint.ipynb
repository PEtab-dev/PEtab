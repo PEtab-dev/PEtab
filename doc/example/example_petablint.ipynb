{
 "cells": [
  {
   "cell_type": "markdown",
   "metadata": {},
   "source": [
    "# Using petablint"
   ]
  },
  {
   "cell_type": "markdown",
   "metadata": {},
   "source": [
    "`petablint` is a tool to validate a model against the PEtab standard. When you have installed PEtab, you can simply call it from the command line. It takes the following arguments:"
   ]
  },
  {
   "cell_type": "code",
   "execution_count": 1,
   "metadata": {},
   "outputs": [
    {
     "name": "stdout",
     "output_type": "stream",
     "text": [
      "usage: petablint [-h] [-v] [-s SBML_FILE_NAME] [-m MEASUREMENT_FILE_NAME]\r\n",
      "                 [-c CONDITION_FILE_NAME] [-p PARAMETER_FILE_NAME]\r\n",
      "                 [-y YAML_FILE_NAME | -n MODEL_NAME] [-d DIRECTORY]\r\n",
      "\r\n",
      "Check if a set of files adheres to the PEtab format.\r\n",
      "\r\n",
      "optional arguments:\r\n",
      "  -h, --help            show this help message and exit\r\n",
      "  -v, --verbose         More verbose output\r\n",
      "  -s SBML_FILE_NAME, --sbml SBML_FILE_NAME\r\n",
      "                        SBML model filename\r\n",
      "  -m MEASUREMENT_FILE_NAME, --measurements MEASUREMENT_FILE_NAME\r\n",
      "                        Measurement table\r\n",
      "  -c CONDITION_FILE_NAME, --conditions CONDITION_FILE_NAME\r\n",
      "                        Conditions table\r\n",
      "  -p PARAMETER_FILE_NAME, --parameters PARAMETER_FILE_NAME\r\n",
      "                        Parameter table\r\n",
      "  -y YAML_FILE_NAME, --yaml YAML_FILE_NAME\r\n",
      "                        PEtab YAML problem filename\r\n",
      "  -n MODEL_NAME, --model-name MODEL_NAME\r\n",
      "                        Model name where all files are in the working\r\n",
      "                        directory and follow PEtab naming convention.\r\n",
      "                        Specifying -[smcp] will override defaults\r\n",
      "  -d DIRECTORY, --directory DIRECTORY\r\n"
     ]
    }
   ],
   "source": [
    "!petablint -h"
   ]
  },
  {
   "cell_type": "markdown",
   "metadata": {},
   "source": [
    "Let's look at an example: In the example_Fujita folder, we have a PEtab configuration file `Fujita.yaml` telling which files belong to the Fujita model:"
   ]
  },
  {
   "cell_type": "code",
   "execution_count": 2,
   "metadata": {},
   "outputs": [
    {
     "name": "stdout",
     "output_type": "stream",
     "text": [
      "parameter_file: Fujita_parameters.tsv\r\n",
      "petab_version: 0.0.0a17\r\n",
      "problems:\r\n",
      "- condition_files:\r\n",
      "  - Fujita_experimentalCondition.tsv\r\n",
      "  measurement_files:\r\n",
      "  - Fujita_measurementData.tsv\r\n",
      "  sbml_files:\r\n",
      "  - Fujita_model.xml\r\n"
     ]
    }
   ],
   "source": [
    "!cat example_Fujita/Fujita.yaml"
   ]
  },
  {
   "cell_type": "markdown",
   "metadata": {},
   "source": [
    "To verify everything is ok, we can just call:"
   ]
  },
  {
   "cell_type": "code",
   "execution_count": 3,
   "metadata": {},
   "outputs": [
    {
     "name": "stdout",
     "output_type": "stream",
     "text": [
      "\u001b[0m"
     ]
    }
   ],
   "source": [
    "!petablint -y example_Fujita/Fujita.yaml"
   ]
  },
  {
   "cell_type": "markdown",
   "metadata": {},
   "source": [
    "If there were some inconsistency or error, we would see that here. `petablint` can be called in different ways. You can e.g. also pass SBML, measurement, condition, and parameter file directly, or, if the files follow PEtab naming conventions, you can just pass the model name."
   ]
  }
 ],
 "metadata": {
  "kernelspec": {
   "display_name": "Python 3",
   "language": "python",
   "name": "python3"
  },
  "language_info": {
   "codemirror_mode": {
    "name": "ipython",
    "version": 3
   },
   "file_extension": ".py",
   "mimetype": "text/x-python",
   "name": "python",
   "nbconvert_exporter": "python",
   "pygments_lexer": "ipython3",
   "version": "3.7.3"
  }
 },
 "nbformat": 4,
 "nbformat_minor": 2
}
